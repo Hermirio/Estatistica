{
 "cells": [
  {
   "cell_type": "code",
   "execution_count": 1,
   "metadata": {},
   "outputs": [],
   "source": [
    "import pandas as pd\n",
    "import numpy as np"
   ]
  },
  {
   "cell_type": "code",
   "execution_count": 2,
   "metadata": {},
   "outputs": [
    {
     "name": "stdout",
     "output_type": "stream",
     "text": [
      "0    5\n",
      "1    6\n",
      "2    8\n",
      "3   -3\n",
      "4    9\n",
      "dtype: int64 \n",
      "\n",
      "Campeão     Flamengo\n",
      "Vice           Vasco\n",
      "Terceiro       Bangu\n",
      "dtype: object \n",
      "\n",
      "0    0.689317\n",
      "2    0.674981\n",
      "4    0.583466\n",
      "6    0.255856\n",
      "dtype: float64 \n",
      "\n",
      "a   -9\n",
      "b   -9\n",
      "c   -9\n",
      "d   -9\n",
      "dtype: int64\n"
     ]
    }
   ],
   "source": [
    "s1=pd.Series (data= [5, 6, 8, -3, 9])\n",
    "print (s1, '\\n')\n",
    "d= {'Campeão': 'Flamengo', 'Vice':'Vasco', 'Terceiro':'Bangu'}\n",
    "s2=pd.Series(d)\n",
    "print (s2, '\\n')\n",
    "dados=np.random.random(4)\n",
    "indices=np.arange(0, 8, 2)\n",
    "s3=pd.Series(data=dados, index=indices)\n",
    "print(s3, '\\n')\n",
    "s4=pd.Series(-9, index=['a', 'b', 'c', 'd'])\n",
    "print(s4)"
   ]
  },
  {
   "cell_type": "code",
   "execution_count": null,
   "metadata": {},
   "outputs": [],
   "source": []
  }
 ],
 "metadata": {
  "kernelspec": {
   "display_name": "Python 3",
   "language": "python",
   "name": "python3"
  },
  "language_info": {
   "codemirror_mode": {
    "name": "ipython",
    "version": 3
   },
   "file_extension": ".py",
   "mimetype": "text/x-python",
   "name": "python",
   "nbconvert_exporter": "python",
   "pygments_lexer": "ipython3",
   "version": "3.7.3"
  }
 },
 "nbformat": 4,
 "nbformat_minor": 2
}
