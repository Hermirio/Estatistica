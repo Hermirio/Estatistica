{
 "cells": [
  {
   "cell_type": "code",
   "execution_count": 1,
   "metadata": {},
   "outputs": [],
   "source": [
    "import numpy as np"
   ]
  },
  {
   "cell_type": "code",
   "execution_count": 2,
   "metadata": {},
   "outputs": [
    {
     "name": "stdout",
     "output_type": "stream",
     "text": [
      "arr =  [-2.   4.3  7.   9. ]\n",
      "arr2 =  [ 8.  -5.   0.   3.2]\n"
     ]
    }
   ],
   "source": [
    "arr = np.array([-2, 4.3, 7,9])\n",
    "\n",
    "my_tuple = (8, -5, 0, 3.2)\n",
    "arr2 = np.array(my_tuple)\n",
    "\n",
    "print('arr = ', arr)\n",
    "print('arr2 = ', arr2)"
   ]
  },
  {
   "cell_type": "code",
   "execution_count": 3,
   "metadata": {},
   "outputs": [
    {
     "name": "stdout",
     "output_type": "stream",
     "text": [
      "[0 1 2 3 4 5 6 7 8 9] \n",
      "\n",
      "[[ 1  3  5  7]\n",
      " [ 9 11 13 15]\n",
      " [17 19 21 23]\n",
      " [25 27 29 31]]\n"
     ]
    }
   ],
   "source": [
    "arr = np.arange(10)\n",
    "print(arr,'\\n')\n",
    "\n",
    "arr2 = np.arange(1, 32, 2).reshape(4, 4)\n",
    "print(arr2)"
   ]
  },
  {
   "cell_type": "code",
   "execution_count": 4,
   "metadata": {},
   "outputs": [
    {
     "name": "stdout",
     "output_type": "stream",
     "text": [
      "[  1.  12.  23.  34.  45.  56.  67.  78.  89. 100.] \n",
      "\n"
     ]
    }
   ],
   "source": [
    "arr = np.linspace(1, 100, 10)\n",
    "print(arr, '\\n')"
   ]
  },
  {
   "cell_type": "code",
   "execution_count": 5,
   "metadata": {},
   "outputs": [
    {
     "name": "stdout",
     "output_type": "stream",
     "text": [
      "[[6.89930302e-310 6.89928592e-310 6.89928592e-310 6.89928592e-310]\n",
      " [6.89930145e-310 6.89928593e-310 6.89928593e-310 6.89930193e-310]\n",
      " [6.89930303e-310 6.89930304e-310 6.89930304e-310 6.89930304e-310]\n",
      " [6.89928592e-310 6.89930304e-310 6.89930193e-310 6.89930299e-310]\n",
      " [6.89930297e-310 6.89930195e-310 6.89930198e-310 6.89930301e-310]\n",
      " [6.89930302e-310 6.89928593e-310 6.89928593e-310 6.89928593e-310]] \n",
      "\n",
      "[[1. 0. 0. 0.]\n",
      " [0. 1. 0. 0.]\n",
      " [0. 0. 1. 0.]\n",
      " [0. 0. 0. 1.]]\n"
     ]
    }
   ],
   "source": [
    "arr2 = np.empty((6, 4))\n",
    "print(arr2, '\\n')\n",
    "\n",
    "arr3 = np.eye(4)\n",
    "print(arr3)"
   ]
  },
  {
   "cell_type": "code",
   "execution_count": 6,
   "metadata": {},
   "outputs": [
    {
     "name": "stdout",
     "output_type": "stream",
     "text": [
      "[[0. 0. 0.]\n",
      " [0. 0. 0.]\n",
      " [0. 0. 0.]\n",
      " [0. 0. 0.]\n",
      " [0. 0. 0.]\n",
      " [0. 0. 0.]\n",
      " [0. 0. 0.]\n",
      " [0. 0. 0.]]\n",
      "[[1. 1. 1.]\n",
      " [1. 1. 1.]\n",
      " [1. 1. 1.]\n",
      " [1. 1. 1.]]\n"
     ]
    }
   ],
   "source": [
    "arr = np.zeros((8,3))\n",
    "print(arr)\n",
    "arr2 = np.ones((4,3))\n",
    "print(arr2)"
   ]
  }
 ],
 "metadata": {
  "kernelspec": {
   "display_name": "Python 3",
   "language": "python",
   "name": "python3"
  },
  "language_info": {
   "codemirror_mode": {
    "name": "ipython",
    "version": 3
   },
   "file_extension": ".py",
   "mimetype": "text/x-python",
   "name": "python",
   "nbconvert_exporter": "python",
   "pygments_lexer": "ipython3",
   "version": "3.7.3"
  }
 },
 "nbformat": 4,
 "nbformat_minor": 2
}
