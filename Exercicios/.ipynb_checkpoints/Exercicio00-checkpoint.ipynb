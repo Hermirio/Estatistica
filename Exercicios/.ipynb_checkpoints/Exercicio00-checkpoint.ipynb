{
 "cells": [
  {
   "cell_type": "markdown",
   "metadata": {},
   "source": [
    "\n",
    "__Nome:__ Wanderson Hermirio dos Santos\n",
    "\n",
    "__Matricula:__  201721210024\n",
    "\n",
    "\n",
    "__Questão 1__\n",
    "\n",
    "**Lista** | **Dicionario**\n",
    ":--------:|:-------------:\n",
    "Os índices têm que ser números inteiros | Os índices podem ser de Key\n",
    "Os itens são ordenados por indice e são previsíveis| Em geral, a ordem dos itens em um dicionário é imprevisível\n",
    "Os elementos são indexados com indices| Os elementos de um dicionário nunca são indexados com índices de números inteiros. Em vez disso, você usa as chaves para procurar os valores\n",
    "O operador in usa algoritmos diferentes para listas. Para listas, ele procura os elementos da lista em ordem | Para dicionários, o Python usa um algoritmo chamado hashtable (tabela de dispersão), que tem uma propriedade notável: o operador in leva praticamente o mesmo tempo na busca, não importa quantos itens estejam no dicionário"
   ]
  },
  {
   "cell_type": "markdown",
   "metadata": {},
   "source": [
    "**Questa 2**\n",
    "\n",
    "*a)* Lista"
   ]
  },
  {
   "cell_type": "code",
   "execution_count": 1,
   "metadata": {},
   "outputs": [],
   "source": [
    "lista = [['Sexo', 'Predileta', 'Nota'],\n",
    "         ['F', 'H', 5], \n",
    "         ['M', 'M', 8], \n",
    "         ['F', 'P', 8], \n",
    "         ['F', 'H', 6], \n",
    "         ['M', 'C', 5], \n",
    "         ['M', 'H', 6], \n",
    "         ['F', 'M', 8], \n",
    "         ['F', 'P', 4],\n",
    "         ['F', 'H', 2],\n",
    "         ['M', 'C', 6],\n",
    "         ['F', 'P', 8]]"
   ]
  },
  {
   "cell_type": "code",
   "execution_count": 2,
   "metadata": {},
   "outputs": [
    {
     "data": {
      "text/plain": [
       "[['Sexo', 'Predileta', 'Nota'],\n",
       " ['F', 'H', 5],\n",
       " ['M', 'M', 8],\n",
       " ['F', 'P', 8],\n",
       " ['F', 'H', 6],\n",
       " ['M', 'C', 5],\n",
       " ['M', 'H', 6],\n",
       " ['F', 'M', 8],\n",
       " ['F', 'P', 4],\n",
       " ['F', 'H', 2],\n",
       " ['M', 'C', 6],\n",
       " ['F', 'P', 8]]"
      ]
     },
     "execution_count": 2,
     "metadata": {},
     "output_type": "execute_result"
    }
   ],
   "source": [
    "lista"
   ]
  },
  {
   "cell_type": "markdown",
   "metadata": {},
   "source": [
    "*a)* Dicionario"
   ]
  },
  {
   "cell_type": "code",
   "execution_count": 3,
   "metadata": {},
   "outputs": [],
   "source": [
    "dicionario = {'Sexo':['F', 'M', 'F', 'F', 'M', 'M', 'F', 'F', 'F', 'M', 'F'],\n",
    "             'Predileta':['H', 'M', 'P', 'H', 'C', 'H', 'M', 'P', 'H', 'C', 'P'],\n",
    "             'Nota':[5,8,8,6,5,6,8,4,2,6,8]}"
   ]
  },
  {
   "cell_type": "code",
   "execution_count": 4,
   "metadata": {},
   "outputs": [
    {
     "data": {
      "text/plain": [
       "{'Sexo': ['F', 'M', 'F', 'F', 'M', 'M', 'F', 'F', 'F', 'M', 'F'],\n",
       " 'Predileta': ['H', 'M', 'P', 'H', 'C', 'H', 'M', 'P', 'H', 'C', 'P'],\n",
       " 'Nota': [5, 8, 8, 6, 5, 6, 8, 4, 2, 6, 8]}"
      ]
     },
     "execution_count": 4,
     "metadata": {},
     "output_type": "execute_result"
    }
   ],
   "source": [
    "dicionario"
   ]
  },
  {
   "cell_type": "markdown",
   "metadata": {},
   "source": [
    "*b)* Implemente uma função que permita adicionar 3 pontos à nota, desde que ela não ultrapasse anota 10"
   ]
  },
  {
   "cell_type": "code",
   "execution_count": 5,
   "metadata": {},
   "outputs": [],
   "source": [
    "def add_nota(lista):\n",
    "    tamanhoTabela = (len(lista)-1)\n",
    "    NOTA_MAXIMA = 10\n",
    "    PONTO = 3\n",
    "    POSICAO = 2\n",
    "    for line in range(len(lista)):\n",
    "        nota = lista[line][POSICAO]\n",
    "        try:\n",
    "            if nota+3 < NOTA_MAXIMA:\n",
    "                lista[line][POSICAO] = lista[line][POSICAO]+PONTO\n",
    "        except TypeError:\n",
    "            pass\n",
    "    return lista"
   ]
  },
  {
   "cell_type": "code",
   "execution_count": 6,
   "metadata": {},
   "outputs": [
    {
     "data": {
      "text/plain": [
       "[['Sexo', 'Predileta', 'Nota'],\n",
       " ['F', 'H', 8],\n",
       " ['M', 'M', 8],\n",
       " ['F', 'P', 8],\n",
       " ['F', 'H', 9],\n",
       " ['M', 'C', 8],\n",
       " ['M', 'H', 9],\n",
       " ['F', 'M', 8],\n",
       " ['F', 'P', 7],\n",
       " ['F', 'H', 5],\n",
       " ['M', 'C', 9],\n",
       " ['F', 'P', 8]]"
      ]
     },
     "execution_count": 6,
     "metadata": {},
     "output_type": "execute_result"
    }
   ],
   "source": [
    "add_nota(lista)"
   ]
  },
  {
   "cell_type": "markdown",
   "metadata": {},
   "source": [
    "*c)* com  base  nos  dados  da  tabela,  construa  uma  função  que  retorne  um rankingdas  disciplinas prediletas"
   ]
  },
  {
   "cell_type": "code",
   "execution_count": 7,
   "metadata": {},
   "outputs": [],
   "source": [
    "def rank(lista):\n",
    "    tamanhoTabela = (len(lista)-1)\n",
    "    POSICAO = 1\n",
    "    disciplina = ['H', 'M', 'P', 'C']\n",
    "    materia = {}\n",
    "    rank01 = []\n",
    "    for disc in disciplina:\n",
    "        qnt = 0\n",
    "        for line in range(len(lista)):\n",
    "            if len(lista[line][POSICAO]) < 2:\n",
    "                if disc == lista[line][POSICAO]:\n",
    "                    qnt+=1\n",
    "        materia[disc] = qnt\n",
    "    for disc in sorted(materia, key = materia.get):\n",
    "        rank01.append(disc)\n",
    "    x = len(rank01)\n",
    "    while x > 0:\n",
    "        x-=1\n",
    "        print(rank01[x])"
   ]
  },
  {
   "cell_type": "code",
   "execution_count": 8,
   "metadata": {},
   "outputs": [
    {
     "name": "stdout",
     "output_type": "stream",
     "text": [
      "H\n",
      "P\n",
      "C\n",
      "M\n"
     ]
    }
   ],
   "source": [
    "rank(lista)"
   ]
  }
 ],
 "metadata": {
  "kernelspec": {
   "display_name": "Python 3",
   "language": "python",
   "name": "python3"
  },
  "language_info": {
   "codemirror_mode": {
    "name": "ipython",
    "version": 3
   },
   "file_extension": ".py",
   "mimetype": "text/x-python",
   "name": "python",
   "nbconvert_exporter": "python",
   "pygments_lexer": "ipython3",
   "version": "3.7.3"
  }
 },
 "nbformat": 4,
 "nbformat_minor": 2
}
